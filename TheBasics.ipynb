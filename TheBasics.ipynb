{
  "nbformat": 4,
  "nbformat_minor": 0,
  "metadata": {
    "colab": {
      "name": "TheBasics.ipynb",
      "provenance": [],
      "authorship_tag": "ABX9TyPiX+3DSm6onBsRhp0/SHKU"
    },
    "kernelspec": {
      "name": "python3",
      "display_name": "Python 3"
    },
    "language_info": {
      "name": "python"
    }
  },
  "cells": [
    {
      "cell_type": "markdown",
      "source": [
        "**The Basics**\n"
      ],
      "metadata": {
        "id": "EQFm4gDxEEEo"
      }
    },
    {
      "cell_type": "markdown",
      "source": [
        "**Pandas**"
      ],
      "metadata": {
        "id": "SV_avob0L0mj"
      }
    },
    {
      "cell_type": "code",
      "execution_count": null,
      "metadata": {
        "colab": {
          "base_uri": "https://localhost:8080/"
        },
        "id": "mYwufp7nCYCg",
        "outputId": "70efc20e-0138-4d3a-f811-f5088d53ca40"
      },
      "outputs": [
        {
          "output_type": "stream",
          "name": "stdout",
          "text": [
            "   Survived  Pclass     Sex   Age  Siblings/Spouses  Parents/Children     Fare\n",
            "0         0       3    male  22.0                 1                 0   7.2500\n",
            "1         1       1  female  38.0                 1                 0  71.2833\n",
            "2         1       3  female  26.0                 0                 0   7.9250\n",
            "3         1       1  female  35.0                 1                 0  53.1000\n",
            "4         0       3    male  35.0                 0                 0   8.0500\n"
          ]
        }
      ],
      "source": [
        "import pandas as pd\n",
        "df = pd.read_csv('/titanic.csv')\n",
        "print(df.head())"
      ]
    },
    {
      "cell_type": "code",
      "source": [
        "import matplotlib.pyplot as plt\n",
        "df[\"Pclass\"].value_counts().plot.pie()"
      ],
      "metadata": {
        "colab": {
          "base_uri": "https://localhost:8080/",
          "height": 267
        },
        "id": "dOy_-0NSNRSi",
        "outputId": "3bc71eee-1b68-48c4-f83e-726a8ba621fd"
      },
      "execution_count": null,
      "outputs": [
        {
          "output_type": "execute_result",
          "data": {
            "text/plain": [
              "<matplotlib.axes._subplots.AxesSubplot at 0x7f64c5150bd0>"
            ]
          },
          "metadata": {},
          "execution_count": 10
        },
        {
          "output_type": "display_data",
          "data": {
            "image/png": "[encoded data removed]",
            "text/plain": [
              "<Figure size 432x288 with 1 Axes>"
            ]
          },
          "metadata": {}
        }
      ]
    },
    {
      "cell_type": "markdown",
      "source": [
        "Summarize the Data"
      ],
      "metadata": {
        "id": "8C9qEf1iMGfl"
      }
    },
    {
      "cell_type": "code",
      "source": [
        "print(df.describe())"
      ],
      "metadata": {
        "colab": {
          "base_uri": "https://localhost:8080/"
        },
        "id": "F4ZXsn91MHfX",
        "outputId": "83ca1f54-f0c7-48ba-dd2a-252e70b8f73b"
      },
      "execution_count": null,
      "outputs": [
        {
          "output_type": "stream",
          "name": "stdout",
          "text": [
            "         Survived      Pclass  ...  Parents/Children       Fare\n",
            "count  887.000000  887.000000  ...        887.000000  887.00000\n",
            "mean     0.385569    2.305524  ...          0.383315   32.30542\n",
            "std      0.487004    0.836662  ...          0.807466   49.78204\n",
            "min      0.000000    1.000000  ...          0.000000    0.00000\n",
            "25%      0.000000    2.000000  ...          0.000000    7.92500\n",
            "50%      0.000000    3.000000  ...          0.000000   14.45420\n",
            "75%      1.000000    3.000000  ...          0.000000   31.13750\n",
            "max      1.000000    3.000000  ...          6.000000  512.32920\n",
            "\n",
            "[8 rows x 6 columns]\n"
          ]
        }
      ]
    },
    {
      "cell_type": "code",
      "source": [
        "col = df['Fare']\n",
        "print(col)"
      ],
      "metadata": {
        "colab": {
          "base_uri": "https://localhost:8080/"
        },
        "id": "ISIBINF0PAnG",
        "outputId": "4521dc2f-1242-44e4-a319-db1e22363d65"
      },
      "execution_count": null,
      "outputs": [
        {
          "output_type": "stream",
          "name": "stdout",
          "text": [
            "0       7.2500\n",
            "1      71.2833\n",
            "2       7.9250\n",
            "3      53.1000\n",
            "4       8.0500\n",
            "        ...   \n",
            "882    13.0000\n",
            "883    30.0000\n",
            "884    23.4500\n",
            "885    30.0000\n",
            "886     7.7500\n",
            "Name: Fare, Length: 887, dtype: float64\n"
          ]
        }
      ]
    },
    {
      "cell_type": "code",
      "source": [
        "small_df = df[['Age', 'Sex', 'Survived']]\n",
        "print(small_df.head()) "
      ],
      "metadata": {
        "colab": {
          "base_uri": "https://localhost:8080/"
        },
        "id": "_8HKO0xVQm0J",
        "outputId": "3b6904a1-84f9-42ff-add8-90aca60f64f4"
      },
      "execution_count": null,
      "outputs": [
        {
          "output_type": "stream",
          "name": "stdout",
          "text": [
            "    Age     Sex  Survived\n",
            "0  22.0    male         0\n",
            "1  38.0  female         1\n",
            "2  26.0  female         1\n",
            "3  35.0  female         1\n",
            "4  35.0    male         0\n",
            "<class 'pandas.core.frame.DataFrame'>\n",
            "RangeIndex: 887 entries, 0 to 886\n",
            "Data columns (total 7 columns):\n",
            " #   Column            Non-Null Count  Dtype  \n",
            "---  ------            --------------  -----  \n",
            " 0   Survived          887 non-null    int64  \n",
            " 1   Pclass            887 non-null    int64  \n",
            " 2   Sex               887 non-null    object \n",
            " 3   Age               887 non-null    float64\n",
            " 4   Siblings/Spouses  887 non-null    int64  \n",
            " 5   Parents/Children  887 non-null    int64  \n",
            " 6   Fare              887 non-null    float64\n",
            "dtypes: float64(2), int64(4), object(1)\n",
            "memory usage: 48.6+ KB\n",
            "None\n"
          ]
        }
      ]
    },
    {
      "cell_type": "code",
      "source": [
        "df['Sex'] == 'male'\n",
        "print(df.info())\n",
        "df['male'] = df['Sex'] == 'male'\n",
        "print(df.info())\n",
        "print(df.head())"
      ],
      "metadata": {
        "colab": {
          "base_uri": "https://localhost:8080/"
        },
        "id": "lUhwiqWqQxdO",
        "outputId": "4e924820-d07e-4568-fd2d-880b97d50bce"
      },
      "execution_count": null,
      "outputs": [
        {
          "output_type": "stream",
          "name": "stdout",
          "text": [
            "<class 'pandas.core.frame.DataFrame'>\n",
            "RangeIndex: 887 entries, 0 to 886\n",
            "Data columns (total 8 columns):\n",
            " #   Column            Non-Null Count  Dtype  \n",
            "---  ------            --------------  -----  \n",
            " 0   Survived          887 non-null    int64  \n",
            " 1   Pclass            887 non-null    int64  \n",
            " 2   Sex               887 non-null    object \n",
            " 3   Age               887 non-null    float64\n",
            " 4   Siblings/Spouses  887 non-null    int64  \n",
            " 5   Parents/Children  887 non-null    int64  \n",
            " 6   Fare              887 non-null    float64\n",
            " 7   male              887 non-null    bool   \n",
            "dtypes: bool(1), float64(2), int64(4), object(1)\n",
            "memory usage: 49.5+ KB\n",
            "None\n",
            "<class 'pandas.core.frame.DataFrame'>\n",
            "RangeIndex: 887 entries, 0 to 886\n",
            "Data columns (total 8 columns):\n",
            " #   Column            Non-Null Count  Dtype  \n",
            "---  ------            --------------  -----  \n",
            " 0   Survived          887 non-null    int64  \n",
            " 1   Pclass            887 non-null    int64  \n",
            " 2   Sex               887 non-null    object \n",
            " 3   Age               887 non-null    float64\n",
            " 4   Siblings/Spouses  887 non-null    int64  \n",
            " 5   Parents/Children  887 non-null    int64  \n",
            " 6   Fare              887 non-null    float64\n",
            " 7   male              887 non-null    bool   \n",
            "dtypes: bool(1), float64(2), int64(4), object(1)\n",
            "memory usage: 49.5+ KB\n",
            "None\n",
            "   Survived  Pclass     Sex  ...  Parents/Children     Fare   male\n",
            "0         0       3    male  ...                 0   7.2500   True\n",
            "1         1       1  female  ...                 0  71.2833  False\n",
            "2         1       3  female  ...                 0   7.9250  False\n",
            "3         1       1  female  ...                 0  53.1000  False\n",
            "4         0       3    male  ...                 0   8.0500   True\n",
            "\n",
            "[5 rows x 8 columns]\n"
          ]
        }
      ]
    },
    {
      "cell_type": "markdown",
      "source": [
        "**Numpy**"
      ],
      "metadata": {
        "id": "foKjQ8gJR3HD"
      }
    },
    {
      "cell_type": "markdown",
      "source": [
        "From DataFrame to array"
      ],
      "metadata": {
        "id": "DoF-1AEcR9Mr"
      }
    },
    {
      "cell_type": "code",
      "source": [
        "df['Fare'].values"
      ],
      "metadata": {
        "colab": {
          "base_uri": "https://localhost:8080/"
        },
        "id": "Pc09tJIhR6Hy",
        "outputId": "a811c45f-52e5-4c73-b85b-cd0bcca59041"
      },
      "execution_count": null,
      "outputs": [
        {
          "output_type": "execute_result",
          "data": {
            "text/plain": [
              "array([  7.25  ,  71.2833,   7.925 ,  53.1   ,   8.05  ,   8.4583,\n",
              "        51.8625,  21.075 ,  11.1333,  30.0708,  16.7   ,  26.55  ,\n",
              "         8.05  ,  31.275 ,   7.8542,  16.    ,  29.125 ,  13.    ,\n",
              "        18.    ,   7.225 ,  26.    ,  13.    ,   8.0292,  35.5   ,\n",
              "        21.075 ,  31.3875,   7.225 , 263.    ,   7.8792,   7.8958,\n",
              "        27.7208, 146.5208,   7.75  ,  10.5   ,  82.1708,  52.    ,\n",
              "         7.2292,   8.05  ,  18.    ,  11.2417,   9.475 ,  21.    ,\n",
              "        41.5792,   7.8792,   8.05  ,  15.5   ,   7.75  ,  21.6792,\n",
              "        17.8   ,  39.6875,   7.8   ,  76.7292,  26.    ,  61.9792,\n",
              "        35.5   ,  10.5   ,   7.2292,  27.75  ,  46.9   ,   7.2292,\n",
              "        80.    ,  83.475 ,  27.9   ,  27.7208,  15.2458,  10.5   ,\n",
              "         8.1583,   7.925 ,   8.6625,  10.5   ,  46.9   ,  73.5   ,\n",
              "        14.4542,  56.4958,   7.65  ,   7.8958,   8.05  ,  29.    ,\n",
              "        12.475 ,   9.    ,   9.5   ,   7.7875,  47.1   ,  10.5   ,\n",
              "        15.85  ,  34.375 ,   8.05  , 263.    ,   8.05  ,   8.05  ,\n",
              "         7.8542,  61.175 ,  20.575 ,   7.25  ,   8.05  ,  34.6542,\n",
              "        63.3583,  23.    ,  26.    ,   7.8958,   7.8958,  77.2875,\n",
              "         8.6542,   7.925 ,   7.8958,   7.65  ,   7.775 ,   7.8958,\n",
              "        24.15  ,  52.    ,  14.4542,   8.05  ,   9.825 ,  14.4583,\n",
              "         7.925 ,   7.75  ,  21.    , 247.5208,  31.275 ,  73.5   ,\n",
              "         8.05  ,  30.0708,  13.    ,  77.2875,  11.2417,   7.75  ,\n",
              "         7.1417,  22.3583,   6.975 ,   7.8958,   7.05  ,  14.5   ,\n",
              "        26.    ,  13.    ,  15.0458,  26.2833,  53.1   ,   9.2167,\n",
              "        79.2   ,  15.2458,   7.75  ,  15.85  ,   6.75  ,  11.5   ,\n",
              "        36.75  ,   7.7958,  34.375 ,  26.    ,  13.    ,  12.525 ,\n",
              "        66.6   ,   8.05  ,  14.5   ,   7.3125,  61.3792,   7.7333,\n",
              "         8.05  ,   8.6625,  69.55  ,  16.1   ,  15.75  ,   7.775 ,\n",
              "         8.6625,  39.6875,  20.525 ,  55.    ,  27.9   ,  25.925 ,\n",
              "        56.4958,  33.5   ,  29.125 ,  11.1333,   7.925 ,  30.6958,\n",
              "         7.8542,  25.4667,  28.7125,  13.    ,   0.    ,  69.55  ,\n",
              "        15.05  ,  31.3875,  39.    ,  22.025 ,  50.    ,  15.5   ,\n",
              "        26.55  ,  15.5   ,   7.8958,  13.    ,  13.    ,   7.8542,\n",
              "        26.    ,  27.7208, 146.5208,   7.75  ,   8.4042,   7.75  ,\n",
              "        13.    ,   9.5   ,  69.55  ,   6.4958,   7.225 ,   8.05  ,\n",
              "        10.4625,  15.85  ,  18.7875,   7.75  ,  31.    ,   7.05  ,\n",
              "        21.    ,   7.25  ,  13.    ,   7.75  , 113.275 ,   7.925 ,\n",
              "        27.    ,  76.2917,  10.5   ,   8.05  ,  13.    ,   8.05  ,\n",
              "         7.8958,  90.    ,   9.35  ,  10.5   ,   7.25  ,  13.    ,\n",
              "        25.4667,  83.475 ,   7.775 ,  13.5   ,  31.3875,  10.5   ,\n",
              "         7.55  ,  26.    ,  26.25  ,  10.5   ,  12.275 ,  14.4542,\n",
              "        15.5   ,  10.5   ,   7.125 ,   7.225 ,  90.    ,   7.775 ,\n",
              "        14.5   ,  52.5542,  26.    ,   7.25  ,  10.4625,  26.55  ,\n",
              "        16.1   ,  20.2125,  15.2458,  79.2   ,  86.5   , 512.3292,\n",
              "        26.    ,  31.3875,  79.65  ,   0.    ,   7.75  ,  10.5   ,\n",
              "        39.6875,   7.775 , 153.4625, 135.6333,  31.    ,   0.    ,\n",
              "        19.5   ,  29.7   ,   7.75  ,  77.9583,   7.75  ,   0.    ,\n",
              "        29.125 ,  20.25  ,   7.75  ,   7.8542,   9.5   ,   8.05  ,\n",
              "        26.    ,   8.6625,   9.5   ,   7.8958,  13.    ,   7.75  ,\n",
              "        78.85  ,  91.0792,  12.875 ,   8.85  ,   7.8958,  27.7208,\n",
              "         7.2292, 151.55  ,  30.5   , 247.5208,   7.75  ,  23.25  ,\n",
              "         0.    ,  12.35  ,   8.05  , 151.55  , 110.8833, 108.9   ,\n",
              "        24.    ,  56.9292,  83.1583, 262.375 ,  26.    ,   7.8958,\n",
              "        26.25  ,   7.8542,  26.    ,  14.    , 164.8667, 134.5   ,\n",
              "         7.25  ,   7.8958,  12.35  ,  29.    ,  69.55  , 135.6333,\n",
              "         6.2375,  13.    ,  20.525 ,  57.9792,  23.25  ,  28.5   ,\n",
              "       153.4625,  18.    , 133.65  ,   7.8958,  66.6   , 134.5   ,\n",
              "         8.05  ,  35.5   ,  26.    , 263.    ,  13.    ,  13.    ,\n",
              "        13.    ,  13.    ,  13.    ,  16.1   ,  15.9   ,   8.6625,\n",
              "         9.225 ,  35.    ,   7.2292,  17.8   ,   7.225 ,   9.5   ,\n",
              "        55.    ,  13.    ,   7.8792,   7.8792,  27.9   ,  27.7208,\n",
              "        14.4542,   7.05  ,  15.5   ,   7.25  ,  75.25  ,   7.2292,\n",
              "         7.75  ,  69.3   ,  55.4417,   6.4958,   8.05  , 135.6333,\n",
              "        21.075 ,  82.1708,   7.25  , 211.5   ,   4.0125,   7.775 ,\n",
              "       227.525 ,  15.7417,   7.925 ,  52.    ,   7.8958,  73.5   ,\n",
              "        46.9   ,  13.    ,   7.7292,  12.    , 120.    ,   7.7958,\n",
              "         7.925 , 113.275 ,  16.7   ,   7.7958,   7.8542,  26.    ,\n",
              "        10.5   ,  12.65  ,   7.925 ,   8.05  ,   9.825 ,  15.85  ,\n",
              "         8.6625,  21.    ,   7.75  ,  18.75  ,   7.775 ,  25.4667,\n",
              "         7.8958,   6.8583,  90.    ,   0.    ,   7.925 ,   8.05  ,\n",
              "        32.5   ,  13.    ,  13.    ,  24.15  ,   7.7333,   7.875 ,\n",
              "        14.4   ,  20.2125,   7.25  ,  26.    ,  26.    ,   7.75  ,\n",
              "         8.05  ,  26.55  ,  16.1   ,  26.    ,   7.125 ,  55.9   ,\n",
              "       120.    ,  34.375 ,  18.75  , 263.    ,  10.5   ,  26.25  ,\n",
              "         9.5   ,   7.775 ,  13.    ,   8.1125,  81.8583,  19.5   ,\n",
              "        26.55  ,  19.2583,  30.5   ,  27.75  ,  19.9667,  27.75  ,\n",
              "        89.1042,   8.05  ,   7.8958,  26.55  ,  51.8625,  10.5   ,\n",
              "         7.75  ,  26.55  ,   8.05  ,  38.5   ,  13.    ,   8.05  ,\n",
              "         7.05  ,   0.    ,  26.55  ,   7.725 ,  19.2583,   7.25  ,\n",
              "         8.6625,  27.75  ,  13.7917,   9.8375,  52.    ,  21.    ,\n",
              "         7.0458,   7.5208,  12.2875,  46.9   ,   0.    ,   8.05  ,\n",
              "         9.5875,  91.0792,  25.4667,  90.    ,  29.7   ,   8.05  ,\n",
              "        15.9   ,  19.9667,   7.25  ,  30.5   ,  49.5042,   8.05  ,\n",
              "        14.4583,  78.2667,  15.1   , 151.55  ,   7.7958,   8.6625,\n",
              "         7.75  ,   7.6292,   9.5875,  86.5   , 108.9   ,  26.    ,\n",
              "        26.55  ,  22.525 ,  56.4958,   7.75  ,   8.05  ,  26.2875,\n",
              "        59.4   ,   7.4958,  34.0208,  10.5   ,  24.15  ,  26.    ,\n",
              "         7.8958,  93.5   ,   7.8958,   7.225 ,  57.9792,   7.2292,\n",
              "         7.75  ,  10.5   , 221.7792,   7.925 ,  11.5   ,  26.    ,\n",
              "         7.2292,   7.2292,  22.3583,   8.6625,  26.25  ,  26.55  ,\n",
              "       106.425 ,  14.5   ,  49.5   ,  71.    ,  31.275 ,  31.275 ,\n",
              "        26.    , 106.425 ,  26.    ,  26.    ,  13.8625,  20.525 ,\n",
              "        36.75  , 110.8833,  26.    ,   7.8292,   7.225 ,   7.775 ,\n",
              "        26.55  ,  39.6   , 227.525 ,  79.65  ,  17.4   ,   7.75  ,\n",
              "         7.8958,  13.5   ,   8.05  ,   8.05  ,  24.15  ,   7.8958,\n",
              "        21.075 ,   7.2292,   7.8542,  10.5   ,  51.4792,  26.3875,\n",
              "         7.75  ,   8.05  ,  14.5   ,  13.    ,  55.9   ,  14.4583,\n",
              "         7.925 ,  30.    , 110.8833,  26.    ,  40.125 ,   8.7125,\n",
              "        79.65  ,  15.    ,  79.2   ,   8.05  ,   8.05  ,   7.125 ,\n",
              "        78.2667,   7.25  ,   7.75  ,  26.    ,  24.15  ,  33.    ,\n",
              "         0.    ,   7.225 ,  56.9292,  27.    ,   7.8958,  42.4   ,\n",
              "         8.05  ,  26.55  ,  15.55  ,   7.8958,  30.5   ,  41.5792,\n",
              "       153.4625,  31.275 ,   7.05  ,  15.5   ,   7.75  ,   8.05  ,\n",
              "        65.    ,  14.4   ,  16.1   ,  39.    ,  10.5   ,  14.4542,\n",
              "        52.5542,  15.7417,   7.8542,  16.1   ,  32.3208,  12.35  ,\n",
              "        77.9583,   7.8958,   7.7333,  30.    ,   7.0542,  30.5   ,\n",
              "         0.    ,  27.9   ,  13.    ,   7.925 ,  26.25  ,  39.6875,\n",
              "        16.1   ,   7.8542,  69.3   ,  27.9   ,  56.4958,  19.2583,\n",
              "        76.7292,   7.8958,  35.5   ,   7.55  ,   7.55  ,   7.8958,\n",
              "        23.    ,   8.4333,   7.8292,   6.75  ,  73.5   ,   7.8958,\n",
              "        15.5   ,  13.    , 113.275 , 133.65  ,   7.225 ,  25.5875,\n",
              "         7.4958,   7.925 ,  73.5   ,  13.    ,   7.775 ,   8.05  ,\n",
              "        52.    ,  39.    ,  52.    ,  10.5   ,  13.    ,   0.    ,\n",
              "         7.775 ,   8.05  ,   9.8417,  46.9   , 512.3292,   8.1375,\n",
              "        76.7292,   9.225 ,  46.9   ,  39.    ,  41.5792,  39.6875,\n",
              "        10.1708,   7.7958, 211.3375,  57.    ,  13.4167,  56.4958,\n",
              "         7.225 ,  26.55  ,  13.5   ,   8.05  ,   7.7333, 110.8833,\n",
              "         7.65  , 227.525 ,  26.2875,  14.4542,   7.7417,   7.8542,\n",
              "        26.    ,  13.5   ,  26.2875, 151.55  ,  15.2458,  49.5042,\n",
              "        26.55  ,  52.    ,   9.4833,  13.    ,   7.65  , 227.525 ,\n",
              "        10.5   ,   7.775 ,  33.    ,   7.0542,  13.    ,  13.    ,\n",
              "        53.1   ,   8.6625,  21.    ,   7.7375,  26.    ,   7.925 ,\n",
              "       211.3375,  18.7875,   0.    ,  13.    ,  13.    ,  16.1   ,\n",
              "        34.375 , 512.3292,   7.8958,   7.8958,  30.    ,  78.85  ,\n",
              "       262.375 ,  16.1   ,   7.925 ,  71.    ,  20.25  ,  13.    ,\n",
              "        53.1   ,   7.75  ,  23.    ,  12.475 ,   9.5   ,   7.8958,\n",
              "        65.    ,  14.5   ,   7.7958,  11.5   ,   8.05  ,  86.5   ,\n",
              "        14.5   ,   7.125 ,   7.2292, 120.    ,   7.775 ,  77.9583,\n",
              "        39.6   ,   7.75  ,  24.15  ,   8.3625,   9.5   ,   7.8542,\n",
              "        10.5   ,   7.225 ,  23.    ,   7.75  ,   7.75  ,  12.475 ,\n",
              "         7.7375, 211.3375,   7.2292,  57.    ,  30.    ,  23.45  ,\n",
              "         7.05  ,   7.25  ,   7.4958,  29.125 ,  20.575 ,  79.2   ,\n",
              "         7.75  ,  26.    ,  69.55  ,  30.6958,   7.8958,  13.    ,\n",
              "        25.9292,   8.6833,   7.2292,  24.15  ,  13.    ,  26.25  ,\n",
              "       120.    ,   8.5167,   6.975 ,   7.775 ,   0.    ,   7.775 ,\n",
              "        13.    ,  53.1   ,   7.8875,  24.15  ,  10.5   ,  31.275 ,\n",
              "         8.05  ,   0.    ,   7.925 ,  37.0042,   6.45  ,  27.9   ,\n",
              "        93.5   ,   8.6625,   0.    ,  12.475 ,  39.6875,   6.95  ,\n",
              "        56.4958,  37.0042,   7.75  ,  80.    ,  14.4542,  18.75  ,\n",
              "         7.2292,   7.8542,   8.3   ,  83.1583,   8.6625,   8.05  ,\n",
              "        56.4958,  29.7   ,   7.925 ,  10.5   ,  31.    ,   6.4375,\n",
              "         8.6625,   7.55  ,  69.55  ,   7.8958,  33.    ,  89.1042,\n",
              "        31.275 ,   7.775 ,  15.2458,  39.4   ,  26.    ,   9.35  ,\n",
              "       164.8667,  26.55  ,  19.2583,   7.2292,  14.1083,  11.5   ,\n",
              "        25.9292,  69.55  ,  13.    ,  13.    ,  13.8583,  50.4958,\n",
              "         9.5   ,  11.1333,   7.8958,  52.5542,   5.    ,   9.    ,\n",
              "        24.    ,   7.225 ,   9.8458,   7.8958,   7.8958,  83.1583,\n",
              "        26.    ,   7.8958,  10.5167,  10.5   ,   7.05  ,  29.125 ,\n",
              "        13.    ,  30.    ,  23.45  ,  30.    ,   7.75  ])"
            ]
          },
          "metadata": {},
          "execution_count": 23
        }
      ]
    },
    {
      "cell_type": "code",
      "source": [
        "arr = df[['Pclass', 'Fare', 'Age']].values \n",
        "arr.shape"
      ],
      "metadata": {
        "colab": {
          "base_uri": "https://localhost:8080/"
        },
        "id": "Af__ZUSBSn6y",
        "outputId": "6b2432a4-3be4-4f5f-c86a-cac85ea0ab0b"
      },
      "execution_count": null,
      "outputs": [
        {
          "output_type": "execute_result",
          "data": {
            "text/plain": [
              "(887, 3)"
            ]
          },
          "metadata": {},
          "execution_count": 25
        }
      ]
    },
    {
      "cell_type": "markdown",
      "source": [
        "print a specific column"
      ],
      "metadata": {
        "id": "d2Z0XEToT67r"
      }
    },
    {
      "cell_type": "code",
      "source": [
        "arr[:,2]"
      ],
      "metadata": {
        "colab": {
          "base_uri": "https://localhost:8080/"
        },
        "id": "iOZFwxsDT9jF",
        "outputId": "11c98227-33a6-4bc8-8b20-0abc835fce27"
      },
      "execution_count": null,
      "outputs": [
        {
          "output_type": "execute_result",
          "data": {
            "text/plain": [
              "array([22.  , 38.  , 26.  , 35.  , 35.  , 27.  , 54.  ,  2.  , 27.  ,\n",
              "       14.  ,  4.  , 58.  , 20.  , 39.  , 14.  , 55.  ,  2.  , 23.  ,\n",
              "       31.  , 22.  , 35.  , 34.  , 15.  , 28.  ,  8.  , 38.  , 26.  ,\n",
              "       19.  , 24.  , 23.  , 40.  , 48.  , 18.  , 66.  , 28.  , 42.  ,\n",
              "       18.  , 21.  , 18.  , 14.  , 40.  , 27.  ,  3.  , 19.  , 30.  ,\n",
              "       20.  , 27.  , 16.  , 18.  ,  7.  , 21.  , 49.  , 29.  , 65.  ,\n",
              "       46.  , 21.  , 28.5 ,  5.  , 11.  , 22.  , 38.  , 45.  ,  4.  ,\n",
              "       64.  ,  7.  , 29.  , 19.  , 17.  , 26.  , 32.  , 16.  , 21.  ,\n",
              "       26.  , 32.  , 25.  , 23.  , 28.  ,  0.83, 30.  , 22.  , 29.  ,\n",
              "       31.  , 28.  , 17.  , 33.  , 16.  , 20.  , 23.  , 24.  , 29.  ,\n",
              "       20.  , 46.  , 26.  , 59.  , 22.  , 71.  , 23.  , 34.  , 34.  ,\n",
              "       28.  , 29.  , 21.  , 33.  , 37.  , 28.  , 21.  , 29.  , 38.  ,\n",
              "       28.  , 47.  , 14.5 , 22.  , 20.  , 17.  , 21.  , 70.5 , 29.  ,\n",
              "       24.  ,  2.  , 21.  , 19.  , 32.5 , 32.5 , 54.  , 12.  , 19.  ,\n",
              "       24.  ,  2.  , 45.  , 33.  , 20.  , 47.  , 29.  , 25.  , 23.  ,\n",
              "       19.  , 37.  , 16.  , 24.  , 40.  , 22.  , 24.  , 19.  , 18.  ,\n",
              "       19.  , 27.  ,  9.  , 36.5 , 42.  , 51.  , 22.  , 55.5 , 40.5 ,\n",
              "       27.  , 51.  , 16.  , 30.  , 37.  ,  5.  , 44.  , 40.  , 26.  ,\n",
              "       17.  ,  1.  ,  9.  , 48.  , 45.  , 60.  , 28.  , 61.  ,  4.  ,\n",
              "        1.  , 21.  , 56.  , 18.  ,  5.  , 50.  , 30.  , 36.  ,  8.  ,\n",
              "       39.  ,  9.  ,  1.  ,  4.  , 39.  , 26.  , 45.  , 40.  , 36.  ,\n",
              "       32.  , 19.  , 19.  ,  3.  , 44.  , 58.  , 28.  , 42.  , 21.  ,\n",
              "       24.  , 28.  , 17.  , 34.  , 45.5 , 18.  ,  2.  , 32.  , 26.  ,\n",
              "       16.  , 40.  , 24.  , 35.  , 22.  , 30.  , 22.  , 31.  , 27.  ,\n",
              "       42.  , 32.  , 30.  , 16.  , 27.  , 51.  , 22.  , 38.  , 22.  ,\n",
              "       19.  , 20.5 , 18.  , 12.  , 35.  , 29.  , 59.  ,  5.  , 24.  ,\n",
              "       21.  , 44.  ,  8.  , 19.  , 33.  , 19.  , 18.  , 29.  , 22.  ,\n",
              "       30.  , 44.  , 25.  , 24.  , 37.  , 54.  , 18.  , 29.  , 62.  ,\n",
              "       30.  , 41.  , 29.  , 38.  , 30.  , 35.  , 50.  ,  3.  , 52.  ,\n",
              "       40.  , 21.  , 36.  , 16.  , 25.  , 58.  , 35.  , 28.  , 25.  ,\n",
              "       41.  , 37.  , 33.  , 63.  , 45.  , 21.  ,  7.  , 35.  , 65.  ,\n",
              "       28.  , 16.  , 19.  , 57.  , 33.  , 30.  , 22.  , 42.  , 22.  ,\n",
              "       26.  , 19.  , 36.  , 24.  , 24.  , 30.  , 23.5 ,  2.  , 47.  ,\n",
              "       50.  , 20.  , 24.  , 19.  , 46.  , 28.  ,  0.92, 42.  , 17.  ,\n",
              "       30.  , 30.  , 24.  , 18.  , 26.  , 28.  , 43.  , 26.  , 24.  ,\n",
              "       54.  , 31.  , 40.  , 22.  , 27.  , 30.  , 22.  , 20.  , 36.  ,\n",
              "       61.  , 36.  , 31.  , 16.  , 28.  , 45.5 , 38.  , 16.  , 42.  ,\n",
              "       30.  , 29.  , 41.  , 45.  , 45.  ,  2.  , 24.  , 28.  , 25.  ,\n",
              "       36.  , 24.  , 40.  , 34.  ,  3.  , 42.  , 23.  , 43.  , 15.  ,\n",
              "       25.  , 23.  , 28.  , 22.  , 38.  , 22.  , 23.  , 40.  , 29.  ,\n",
              "       45.  , 35.  , 27.  , 30.  , 60.  , 35.  , 22.  , 24.  , 25.  ,\n",
              "       18.  , 19.  , 22.  ,  3.  , 25.  , 22.  , 27.  , 20.  , 19.  ,\n",
              "       42.  ,  1.  , 32.  , 35.  , 27.  , 18.  ,  1.  , 36.  , 19.  ,\n",
              "       17.  , 36.  , 21.  , 28.  , 23.  , 24.  , 22.  , 31.  , 46.  ,\n",
              "       23.  , 28.  , 39.  , 26.  , 21.  , 28.  , 20.  , 34.  , 51.  ,\n",
              "        3.  , 21.  ,  3.  , 42.  , 27.  , 33.  , 22.  , 44.  , 32.  ,\n",
              "       34.  , 18.  , 30.  , 10.  , 21.  , 29.  , 28.  , 18.  , 54.  ,\n",
              "       28.  , 19.  , 28.  , 32.  , 28.  , 33.  , 42.  , 17.  , 50.  ,\n",
              "       14.  , 21.  , 24.  , 64.  , 31.  , 45.  , 20.  , 25.  , 28.  ,\n",
              "       29.  ,  4.  , 13.  , 34.  ,  5.  , 52.  , 36.  , 28.  , 30.  ,\n",
              "       49.  , 24.  , 29.  , 65.  , 41.  , 50.  , 17.  , 48.  , 34.  ,\n",
              "       47.  , 48.  , 34.  , 38.  , 21.  , 56.  , 22.  ,  0.75, 39.  ,\n",
              "       38.  , 33.  , 23.  , 22.  , 40.  , 34.  , 29.  , 22.  ,  2.  ,\n",
              "        9.  , 37.  , 50.  , 63.  , 25.  ,  8.  , 35.  , 58.  , 30.  ,\n",
              "        9.  , 19.  , 21.  , 55.  , 71.  , 21.  , 26.  , 54.  , 55.  ,\n",
              "       25.  , 24.  , 17.  , 21.  , 21.  , 37.  , 16.  , 18.  , 33.  ,\n",
              "       37.  , 28.  , 26.  , 29.  , 66.  , 36.  , 54.  , 24.  , 47.  ,\n",
              "       34.  , 30.  , 36.  , 32.  , 30.  , 22.  , 35.  , 44.  , 18.  ,\n",
              "       40.5 , 50.  , 49.  , 39.  , 23.  ,  2.  , 17.  , 17.  , 24.  ,\n",
              "       30.  ,  7.  , 45.  , 30.  , 69.  , 22.  , 36.  ,  9.  , 11.  ,\n",
              "       32.  , 50.  , 64.  , 19.  , 27.  , 33.  ,  8.  , 17.  , 27.  ,\n",
              "       21.  , 22.  , 22.  , 62.  , 48.  , 45.  , 39.  , 36.  , 30.  ,\n",
              "       40.  , 28.  , 40.  , 62.  , 24.  , 19.  , 29.  , 28.  , 32.  ,\n",
              "       62.  , 53.  , 36.  , 22.  , 16.  , 19.  , 34.  , 39.  , 18.  ,\n",
              "       32.  , 25.  , 39.  , 54.  , 36.  , 16.  , 18.  , 47.  , 60.  ,\n",
              "       22.  , 22.  , 35.  , 52.  , 47.  , 40.  , 37.  , 36.  , 31.  ,\n",
              "       49.  , 18.  , 49.  , 24.  , 42.  , 37.  , 44.  , 35.  , 36.  ,\n",
              "       30.  , 27.  , 22.  , 40.  , 39.  , 21.  , 18.  , 22.  , 35.  ,\n",
              "       24.  , 34.  , 26.  ,  4.  , 26.  , 27.  , 42.  , 20.  , 21.  ,\n",
              "       21.  , 61.  , 57.  , 21.  , 26.  , 18.  , 80.  , 51.  , 32.  ,\n",
              "       30.  ,  9.  , 28.  , 32.  , 31.  , 41.  , 37.  , 20.  , 24.  ,\n",
              "        2.  , 32.  ,  0.75, 48.  , 19.  , 56.  , 21.  , 23.  , 23.  ,\n",
              "       18.  , 21.  , 16.  , 18.  , 24.  , 27.  , 32.  , 23.  , 58.  ,\n",
              "       50.  , 40.  , 47.  , 36.  , 20.  , 32.  , 25.  , 49.  , 43.  ,\n",
              "       48.  , 40.  , 31.  , 70.  , 31.  , 19.  , 18.  , 24.5 , 18.  ,\n",
              "       43.  , 36.  , 28.  , 27.  , 20.  , 14.  , 60.  , 25.  , 14.  ,\n",
              "       19.  , 18.  , 15.  , 31.  ,  4.  , 37.  , 25.  , 60.  , 52.  ,\n",
              "       44.  , 19.  , 49.  , 42.  , 18.  , 35.  , 18.  , 25.  , 26.  ,\n",
              "       39.  , 45.  , 42.  , 22.  ,  4.  , 24.  , 41.  , 48.  , 29.  ,\n",
              "       52.  , 19.  , 38.  , 27.  , 33.  ,  6.  , 17.  , 34.  , 50.  ,\n",
              "       27.  , 20.  , 30.  , 28.  , 25.  , 25.  , 29.  , 11.  , 41.  ,\n",
              "       23.  , 23.  , 28.5 , 48.  , 35.  , 20.  , 32.  , 45.  , 36.  ,\n",
              "       21.  , 24.  , 31.  , 70.  , 16.  , 30.  , 19.  , 31.  ,  4.  ,\n",
              "        6.  , 33.  , 23.  , 48.  ,  0.67, 28.  , 18.  , 34.  , 33.  ,\n",
              "       23.  , 41.  , 20.  , 36.  , 16.  , 51.  , 46.  , 30.5 , 28.  ,\n",
              "       32.  , 24.  , 48.  , 57.  , 29.  , 54.  , 18.  , 20.  ,  5.  ,\n",
              "       22.  , 43.  , 13.  , 17.  , 29.  , 35.  , 25.  , 25.  , 18.  ,\n",
              "        8.  ,  1.  , 46.  , 20.  , 16.  , 21.  , 43.  , 25.  , 39.  ,\n",
              "       49.  , 31.  , 30.  , 30.  , 34.  , 31.  , 11.  ,  0.42, 27.  ,\n",
              "       31.  , 39.  , 18.  , 39.  , 33.  , 26.  , 39.  , 35.  ,  6.  ,\n",
              "       30.5 , 39.  , 23.  , 31.  , 43.  , 10.  , 52.  , 27.  , 38.  ,\n",
              "       27.  ,  2.  , 36.  , 23.  ,  1.  , 19.  , 62.  , 15.  ,  0.83,\n",
              "       30.  , 23.  , 18.  , 39.  , 21.  , 20.  , 32.  , 29.  , 20.  ,\n",
              "       16.  , 30.  , 34.5 , 17.  , 42.  , 18.  , 35.  , 28.  , 40.  ,\n",
              "        4.  , 74.  ,  9.  , 16.  , 44.  , 18.  , 45.  , 51.  , 24.  ,\n",
              "       30.  , 41.  , 21.  , 48.  , 14.  , 24.  , 42.  , 27.  , 31.  ,\n",
              "       23.  ,  4.  , 26.  , 47.  , 33.  , 47.  , 28.  , 15.  , 20.  ,\n",
              "       19.  , 23.  , 56.  , 25.  , 33.  , 22.  , 28.  , 25.  , 39.  ,\n",
              "       27.  , 19.  ,  7.  , 26.  , 32.  ])"
            ]
          },
          "metadata": {},
          "execution_count": 26
        }
      ]
    },
    {
      "cell_type": "code",
      "source": [
        "#mask = arr[:, 2] < 18\n",
        "#arr[mask]\n",
        "arr[arr[:, 2] < 18] "
      ],
      "metadata": {
        "colab": {
          "base_uri": "https://localhost:8080/"
        },
        "id": "jN5VEChkUvv_",
        "outputId": "c2f1c07b-3e4e-47d6-d86c-a8c869b54880"
      },
      "execution_count": null,
      "outputs": [
        {
          "output_type": "execute_result",
          "data": {
            "text/plain": [
              "array([[  3.    ,  21.075 ,   2.    ],\n",
              "       [  2.    ,  30.0708,  14.    ],\n",
              "       [  3.    ,  16.7   ,   4.    ],\n",
              "       [  3.    ,   7.8542,  14.    ],\n",
              "       [  3.    ,  29.125 ,   2.    ],\n",
              "       [  3.    ,   8.0292,  15.    ],\n",
              "       [  3.    ,  21.075 ,   8.    ],\n",
              "       [  3.    ,  11.2417,  14.    ],\n",
              "       [  2.    ,  41.5792,   3.    ],\n",
              "       [  3.    ,  21.6792,  16.    ],\n",
              "       [  3.    ,  39.6875,   7.    ],\n",
              "       [  2.    ,  27.75  ,   5.    ],\n",
              "       [  3.    ,  46.9   ,  11.    ],\n",
              "       [  3.    ,  27.9   ,   4.    ],\n",
              "       [  3.    ,  15.2458,   7.    ],\n",
              "       [  3.    ,   7.925 ,  17.    ],\n",
              "       [  3.    ,  46.9   ,  16.    ],\n",
              "       [  2.    ,  29.    ,   0.83  ],\n",
              "       [  2.    ,  10.5   ,  17.    ],\n",
              "       [  3.    ,  34.375 ,  16.    ],\n",
              "       [  3.    ,  14.4542,  14.5   ],\n",
              "       [  3.    ,  14.4583,  17.    ],\n",
              "       [  3.    ,  31.275 ,   2.    ],\n",
              "       [  3.    ,  11.2417,  12.    ],\n",
              "       [  3.    ,  22.3583,   2.    ],\n",
              "       [  3.    ,   9.2167,  16.    ],\n",
              "       [  3.    ,  34.375 ,   9.    ],\n",
              "       [  3.    ,   7.7333,  16.    ],\n",
              "       [  3.    ,  69.55  ,   5.    ],\n",
              "       [  3.    ,   8.6625,  17.    ],\n",
              "       [  3.    ,  39.6875,   1.    ],\n",
              "       [  3.    ,  20.525 ,   9.    ],\n",
              "       [  3.    ,  29.125 ,   4.    ],\n",
              "       [  3.    ,  11.1333,   1.    ],\n",
              "       [  3.    ,  25.4667,   5.    ],\n",
              "       [  3.    ,  69.55  ,   8.    ],\n",
              "       [  3.    ,  31.3875,   9.    ],\n",
              "       [  2.    ,  39.    ,   1.    ],\n",
              "       [  3.    ,  22.025 ,   4.    ],\n",
              "       [  2.    ,  26.    ,   3.    ],\n",
              "       [  3.    ,  69.55  ,  17.    ],\n",
              "       [  3.    ,  10.4625,   2.    ],\n",
              "       [  3.    ,   7.75  ,  16.    ],\n",
              "       [  3.    ,   8.05  ,  16.    ],\n",
              "       [  3.    ,  25.4667,  12.    ],\n",
              "       [  3.    ,  31.3875,   5.    ],\n",
              "       [  2.    ,  26.25  ,   8.    ],\n",
              "       [  3.    ,  31.3875,   3.    ],\n",
              "       [  3.    ,  39.6875,  16.    ],\n",
              "       [  3.    ,  29.125 ,   7.    ],\n",
              "       [  3.    ,   9.5   ,  16.    ],\n",
              "       [  1.    , 151.55  ,   2.    ],\n",
              "       [  1.    , 151.55  ,   0.92  ],\n",
              "       [  1.    , 108.9   ,  17.    ],\n",
              "       [  1.    ,  57.9792,  16.    ],\n",
              "       [  3.    ,  18.    ,  16.    ],\n",
              "       [  2.    ,  26.    ,   2.    ],\n",
              "       [  3.    ,  15.9   ,   3.    ],\n",
              "       [  3.    ,   7.2292,  15.    ],\n",
              "       [  3.    ,  21.075 ,   3.    ],\n",
              "       [  3.    ,  15.7417,   1.    ],\n",
              "       [  3.    ,  46.9   ,   1.    ],\n",
              "       [  2.    ,  12.    ,  17.    ],\n",
              "       [  2.    ,  18.75  ,   3.    ],\n",
              "       [  3.    ,  25.4667,   3.    ],\n",
              "       [  3.    ,  24.15  ,  10.    ],\n",
              "       [  3.    ,   7.125 ,  17.    ],\n",
              "       [  1.    , 120.    ,  14.    ],\n",
              "       [  1.    ,  81.8583,   4.    ],\n",
              "       [  2.    ,  19.5   ,  13.    ],\n",
              "       [  3.    ,  19.2583,   5.    ],\n",
              "       [  3.    ,   7.75  ,  17.    ],\n",
              "       [  3.    ,  19.2583,   0.75  ],\n",
              "       [  3.    ,  12.2875,   2.    ],\n",
              "       [  3.    ,  46.9   ,   9.    ],\n",
              "       [  3.    ,  25.4667,   8.    ],\n",
              "       [  3.    ,  15.9   ,   9.    ],\n",
              "       [  3.    ,   8.6625,  17.    ],\n",
              "       [  1.    ,  86.5   ,  16.    ],\n",
              "       [  2.    ,  26.    ,   2.    ],\n",
              "       [  3.    ,   7.2292,  17.    ],\n",
              "       [  3.    ,   7.2292,  17.    ],\n",
              "       [  2.    ,  26.25  ,   7.    ],\n",
              "       [  3.    ,  31.275 ,   9.    ],\n",
              "       [  3.    ,  31.275 ,  11.    ],\n",
              "       [  2.    ,  36.75  ,   8.    ],\n",
              "       [  1.    , 110.8833,  17.    ],\n",
              "       [  3.    ,   8.05  ,  16.    ],\n",
              "       [  3.    ,   8.7125,  16.    ],\n",
              "       [  2.    ,  39.    ,   4.    ],\n",
              "       [  3.    ,  27.9   ,   9.    ],\n",
              "       [  3.    ,  27.9   ,   2.    ],\n",
              "       [  3.    ,  19.2583,   0.75  ],\n",
              "       [  3.    ,   7.8292,  16.    ],\n",
              "       [  3.    ,  46.9   ,  14.    ],\n",
              "       [  3.    ,  39.6875,  14.    ],\n",
              "       [  1.    , 211.3375,  15.    ],\n",
              "       [  3.    ,  13.4167,   4.    ],\n",
              "       [  3.    ,  15.2458,   4.    ],\n",
              "       [  2.    ,  33.    ,   6.    ],\n",
              "       [  3.    ,   7.0542,  17.    ],\n",
              "       [  3.    ,  18.7875,  11.    ],\n",
              "       [  3.    ,  20.25  ,  16.    ],\n",
              "       [  2.    ,  23.    ,   4.    ],\n",
              "       [  3.    ,  12.475 ,   6.    ],\n",
              "       [  2.    ,  14.5   ,   0.67  ],\n",
              "       [  3.    ,   7.775 ,  16.    ],\n",
              "       [  3.    ,  12.475 ,   5.    ],\n",
              "       [  3.    ,   7.2292,  13.    ],\n",
              "       [  1.    ,  57.    ,  17.    ],\n",
              "       [  3.    ,  29.125 ,   8.    ],\n",
              "       [  3.    ,  20.575 ,   1.    ],\n",
              "       [  2.    ,  26.    ,  16.    ],\n",
              "       [  1.    , 120.    ,  11.    ],\n",
              "       [  3.    ,   8.5167,   0.42  ],\n",
              "       [  3.    ,  31.275 ,   6.    ],\n",
              "       [  3.    ,  27.9   ,  10.    ],\n",
              "       [  3.    ,  39.6875,   2.    ],\n",
              "       [  2.    ,  37.0042,   1.    ],\n",
              "       [  3.    ,  14.4542,  15.    ],\n",
              "       [  2.    ,  18.75  ,   0.83  ],\n",
              "       [  2.    ,  10.5   ,  16.    ],\n",
              "       [  3.    ,   8.6625,  17.    ],\n",
              "       [  3.    ,  31.275 ,   4.    ],\n",
              "       [  3.    ,  15.2458,   9.    ],\n",
              "       [  1.    ,  39.4   ,  16.    ],\n",
              "       [  3.    ,  69.55  ,  14.    ],\n",
              "       [  3.    ,  11.1333,   4.    ],\n",
              "       [  3.    ,   7.225 ,  15.    ],\n",
              "       [  3.    ,  23.45  ,   7.    ]])"
            ]
          },
          "metadata": {},
          "execution_count": 32
        }
      ]
    },
    {
      "cell_type": "code",
      "source": [
        "print((arr[:, 2] < 18).sum())"
      ],
      "metadata": {
        "colab": {
          "base_uri": "https://localhost:8080/"
        },
        "id": "BVcD50EeWAZI",
        "outputId": "f3c0c155-47c8-4ca3-ee2a-f7b6612e8599"
      },
      "execution_count": null,
      "outputs": [
        {
          "output_type": "stream",
          "name": "stdout",
          "text": [
            "130\n"
          ]
        }
      ]
    },
    {
      "cell_type": "markdown",
      "source": [
        "Matplotlib"
      ],
      "metadata": {
        "id": "fU_y8QYoWaOs"
      }
    },
    {
      "cell_type": "code",
      "source": [
        "plt.scatter(df['Age'], df['Fare'], c=df['Pclass'])\n",
        "plt.xlabel('Age')\n",
        "plt.ylabel('Fare')\n",
        "plt.plot([0, 80], [85, 5])"
      ],
      "metadata": {
        "colab": {
          "base_uri": "https://localhost:8080/",
          "height": 298
        },
        "id": "1Bp6hfc6WeIc",
        "outputId": "7b47d891-9d8d-4b8c-8039-8b46c6268c71"
      },
      "execution_count": null,
      "outputs": [
        {
          "output_type": "execute_result",
          "data": {
            "text/plain": [
              "[<matplotlib.lines.Line2D at 0x7f64c3f97950>]"
            ]
          },
          "metadata": {},
          "execution_count": 37
        },
        {
          "output_type": "display_data",
          "data": {
            "image/png": "[encoded data removed]",
            "text/plain": [
              "<Figure size 432x288 with 1 Axes>"
            ]
          },
          "metadata": {
            "needs_background": "light"
          }
        }
      ]
    },
    {
      "cell_type": "markdown",
      "source": [
        "Machine Learning - What's in a Column?.ipynb\n"
      ],
      "metadata": {
        "id": "Qa7iFBmOcxAi"
      }
    },
    {
      "cell_type": "code",
      "source": [
        "import numpy as np\n",
        "import pandas as pd\n",
        "df= pd.read_csv(\"/titanic.csv\")\n",
        "arr = np.array(df[\"Pclass\"])\n",
        "#arr =(df[column_name].values)\n",
        "print(arr)"
      ],
      "metadata": {
        "colab": {
          "base_uri": "https://localhost:8080/"
        },
        "id": "_eBBQMydc4vF",
        "outputId": "d5fb8799-6007-4634-dc0b-00eff3989a42"
      },
      "execution_count": 42,
      "outputs": [
        {
          "output_type": "stream",
          "name": "stdout",
          "text": [
            "[3 1 3 1 3 3 1 3 3 2 3 1 3 3 3 2 3 2 3 3 2 2 3 1 3 3 3 1 3 3 1 1 3 2 1 1 3\n",
            " 3 3 3 3 2 2 3 3 3 3 3 3 3 3 1 2 1 1 2 3 2 3 3 1 1 3 1 3 2 3 3 3 2 3 2 3 3\n",
            " 3 3 3 2 3 3 3 3 1 2 3 3 3 1 3 3 3 1 3 3 3 1 1 2 2 3 3 1 3 3 3 3 3 3 3 1 3\n",
            " 3 3 3 3 3 2 1 3 2 3 2 2 1 3 3 3 3 3 3 3 3 2 2 2 1 1 3 1 3 3 3 3 2 2 3 3 2\n",
            " 2 2 1 3 3 3 1 3 3 3 3 3 2 3 3 3 3 1 3 1 3 1 3 3 3 1 3 3 1 2 3 3 2 3 2 3 1\n",
            " 3 1 3 3 2 2 3 2 1 1 3 3 3 2 3 3 3 3 3 3 3 3 3 1 3 2 3 2 3 1 3 2 1 2 3 2 3\n",
            " 3 1 3 2 3 2 3 1 3 2 3 2 3 2 2 2 2 3 3 2 3 3 1 3 2 1 2 3 3 1 3 3 3 1 1 1 2\n",
            " 3 1 1 3 2 3 3 1 1 1 3 2 1 3 1 3 2 3 3 3 3 3 3 1 3 3 3 2 3 1 1 2 3 3 1 3 1\n",
            " 1 1 3 3 3 2 3 1 1 1 2 1 1 1 2 3 2 3 2 2 1 1 3 3 2 2 3 1 3 2 3 1 3 1 1 3 1\n",
            " 3 1 1 3 1 2 1 2 2 2 2 2 3 3 3 3 1 3 3 3 3 1 2 3 3 3 2 3 3 3 3 1 3 3 1 1 3\n",
            " 3 1 3 1 3 1 3 3 1 3 3 1 3 2 3 2 3 2 1 3 3 1 3 3 3 2 2 2 3 3 3 3 3 2 3 2 3\n",
            " 3 3 3 1 2 3 3 2 2 2 3 3 3 3 3 3 2 2 3 3 1 3 2 3 1 1 3 2 1 2 2 3 3 2 3 1 2\n",
            " 1 3 1 2 3 1 1 3 3 1 1 2 3 1 3 1 2 3 3 2 1 3 3 3 3 2 2 3 1 2 3 3 3 3 2 3 3\n",
            " 1 3 1 1 3 3 3 3 1 1 3 3 1 3 1 3 3 3 3 3 1 1 2 1 3 3 3 3 1 1 3 1 2 3 2 3 1\n",
            " 3 3 1 3 3 2 1 3 2 2 3 3 3 3 2 1 1 3 1 1 3 3 2 1 1 2 2 3 2 1 2 3 3 3 1 1 1\n",
            " 1 3 3 3 2 3 3 3 3 3 3 3 2 1 1 3 3 3 2 1 3 3 2 1 2 1 3 1 2 1 3 3 3 1 3 3 2\n",
            " 3 2 3 3 1 2 3 1 3 1 3 3 1 2 1 3 3 3 3 3 2 3 3 2 2 3 1 3 3 3 1 2 1 3 3 1 3\n",
            " 1 1 3 2 3 2 3 3 3 1 3 3 3 1 3 1 3 3 3 2 3 3 3 2 3 3 2 1 1 3 1 3 3 2 2 3 3\n",
            " 1 2 1 2 2 2 3 3 3 3 1 3 1 3 3 2 2 3 3 3 1 1 3 3 3 1 2 3 3 1 3 1 1 3 3 3 2\n",
            " 2 1 1 3 1 1 1 3 2 3 1 2 3 2 3 2 2 1 3 2 3 2 3 1 3 2 2 2 3 3 1 3 3 1 1 1 3\n",
            " 3 1 3 2 1 3 2 3 3 3 2 2 3 2 3 1 3 3 3 1 3 1 1 3 3 3 3 3 2 3 2 3 3 3 3 1 3\n",
            " 1 1 3 3 3 3 3 3 1 3 2 3 1 3 2 1 3 3 3 2 2 1 3 3 3 1 3 2 1 3 3 2 3 3 1 3 2\n",
            " 3 3 1 3 1 3 3 3 3 2 3 1 3 2 3 3 3 1 3 3 3 1 3 2 1 3 3 3 3 3 2 1 3 3 3 1 2\n",
            " 3 1 1 3 3 3 2 1 3 2 2 2 1 3 3 3 1 1 3 2 3 3 3 3 1 2 3 3 2 3 3 2 1 3 1 3]\n"
          ]
        }
      ]
    }
  ]
}