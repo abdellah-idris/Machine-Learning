{
  "nbformat": 4,
  "nbformat_minor": 0,
  "metadata": {
    "colab": {
      "name": "Model Evaluation.ipynb",
      "provenance": [],
      "collapsed_sections": []
    },
    "kernelspec": {
      "name": "python3",
      "display_name": "Python 3"
    },
    "language_info": {
      "name": "python"
    }
  },
  "cells": [
    {
      "cell_type": "markdown",
      "source": [
        "**Model Evaluation**"
      ],
      "metadata": {
        "id": "oLM7jGLDzF9Q"
      }
    },
    {
      "cell_type": "markdown",
      "source": [
        "Accuracy\n",
        "Precision : refers to the percentage of positive results which are relevant                   \n",
        "Recall : percentage of positive cases correctly classified\n",
        "F1 score is the harmonic mean of the precision and recall values.\n",
        "F1= 2*(precision*recall=/(precision+recall)"
      ],
      "metadata": {
        "id": "qepeQHudzKyo"
      }
    },
    {
      "cell_type": "markdown",
      "source": [
        "\n",
        "\n",
        "---\n",
        "\n",
        "\n",
        "Accuracy, Precision, Recall & F1 Score in Sklearn\n",
        "\n",
        "\n",
        "\n"
      ],
      "metadata": {
        "id": "tG9NsPmk128K"
      }
    },
    {
      "cell_type": "code",
      "source": [
        "import pandas as pd\n",
        "from sklearn.linear_model import LogisticRegression\n",
        "from sklearn.metrics import accuracy_score, precision_score, recall_score, f1_score,confusion_matrix\n",
        "\n",
        "df = pd.read_csv('/content/titanic.csv')\n",
        "df['male'] = df['Sex'] == 'male'\n",
        "X = df[['Pclass', 'male', 'Age', 'Siblings/Spouses', 'Parents/Children', 'Fare']].values\n",
        "y = df['Survived'].values\n",
        "model = LogisticRegression()\n",
        "model.fit(X, y)\n",
        "y_pred = model.predict(X)\n",
        "\n",
        "print(\"accuracy:\", accuracy_score(y, y_pred)*100)\n",
        "print(\"precision:\", precision_score(y, y_pred)*100)\n",
        "print(\"recall:\", recall_score(y, y_pred)*100)\n",
        "print(\"f1 score:\", f1_score(y, y_pred)*100)\n",
        "print(confusion_matrix(y, y_pred)) #Scikit-learn reverses the confusion matrix to show the negative counts first! "
      ],
      "metadata": {
        "colab": {
          "base_uri": "https://localhost:8080/"
        },
        "id": "tDJ7WIbGzK7C",
        "outputId": "addfff07-ddc0-4e63-8ed8-f8485f4c5edc"
      },
      "execution_count": 41,
      "outputs": [
        {
          "output_type": "stream",
          "name": "stdout",
          "text": [
            "accuracy: 80.49605411499437\n",
            "precision: 77.34627831715211\n",
            "recall: 69.88304093567251\n",
            "f1 score: 73.42549923195082\n",
            "[[475  70]\n",
            " [103 239]]\n"
          ]
        }
      ]
    },
    {
      "cell_type": "markdown",
      "source": [
        "\n",
        "\n",
        "---\n",
        "Training and Testing\n",
        "\n"
      ],
      "metadata": {
        "id": "o_VgxN0P9LGp"
      }
    },
    {
      "cell_type": "code",
      "source": [
        "from sklearn.model_selection import train_test_split\n",
        "X_train, X_test, y_train, y_test = train_test_split(X, y , train_size=0.8)# 80% train 20% test\n",
        "\n",
        "print(\"whole dataset:\", X.shape, y.shape)\n",
        "print(\"training set:\", X_train.shape, y_train.shape )\n",
        "print(\"test set:\", X_test.shape, y_test.shape)"
      ],
      "metadata": {
        "colab": {
          "base_uri": "https://localhost:8080/"
        },
        "id": "1VKawPDT9T--",
        "outputId": "7bd7f1df-309c-4c1d-ebbd-f803ebb6e28e"
      },
      "execution_count": 42,
      "outputs": [
        {
          "output_type": "stream",
          "name": "stdout",
          "text": [
            "whole dataset: (887, 6) (887,)\n",
            "training set: (709, 6) (709,)\n",
            "test set: (178, 6) (178,)\n"
          ]
        }
      ]
    },
    {
      "cell_type": "code",
      "source": [
        "X_train, X_test, y_train, y_test = train_test_split(X, y)\n",
        "model.fit(X_train, y_train)\n",
        "# evaluating the model\n",
        "y_pred = model.predict(X_test)\n",
        "print(\"accuracy:\", accuracy_score(y_test, y_pred)*100)\n",
        "print(\"precision:\", precision_score(y_test, y_pred)*100)\n",
        "print(\"recall:\", recall_score(y_test, y_pred)*100)\n",
        "print(\"f1 score:\", f1_score(y_test, y_pred)*100)"
      ],
      "metadata": {
        "colab": {
          "base_uri": "https://localhost:8080/"
        },
        "id": "vB5MUjeN-PPX",
        "outputId": "5fa5fd73-4e87-423f-e184-cc075838b892"
      },
      "execution_count": 43,
      "outputs": [
        {
          "output_type": "stream",
          "name": "stdout",
          "text": [
            "accuracy: 77.47747747747748\n",
            "precision: 68.91891891891892\n",
            "recall: 65.38461538461539\n",
            "f1 score: 67.10526315789474\n"
          ]
        }
      ]
    },
    {
      "cell_type": "markdown",
      "source": [
        "\n",
        "\n",
        "---\n",
        "\n",
        "\n",
        "Sensitivity & Specificity"
      ],
      "metadata": {
        "id": "CP9qZu7xD1FF"
      }
    },
    {
      "cell_type": "code",
      "source": [
        "from sklearn.metrics import recall_score, precision_recall_fscore_support\n",
        "sensitivity_score = recall_score\n",
        "def specificity_score(y_true, y_pred):\n",
        "    p, r, f, s = precision_recall_fscore_support(y_true, y_pred)\n",
        "    return r[0]\n",
        "print(\"sensitivity:\", sensitivity_score(y_test, y_pred)) #recall\n",
        "print(\"specificity:\", specificity_score(y_test, y_pred))"
      ],
      "metadata": {
        "colab": {
          "base_uri": "https://localhost:8080/"
        },
        "id": "ZVzp0oT5D4CP",
        "outputId": "ec79dbb5-eff7-4e55-e8eb-d884d4deed86"
      },
      "execution_count": 44,
      "outputs": [
        {
          "output_type": "stream",
          "name": "stdout",
          "text": [
            "sensitivity: 0.6538461538461539\n",
            "specificity: 0.8402777777777778\n"
          ]
        }
      ]
    },
    {
      "cell_type": "code",
      "source": [
        "X_train, X_test, y_train, y_test = train_test_split(X, y, random_state=5) #always get the same\n",
        "model = LogisticRegression()\n",
        "model.fit(X_train, y_train)\n",
        "y_pred = model.predict_proba(X_test)[:, 1] > 0.25 #adjust the   Threshold\n",
        "\n",
        "print(\"precision:\", precision_score(y_test, y_pred))\n",
        "print(\"recall:\", recall_score(y_test, y_pred))\n",
        "print(\"specificity:\", specificity_score(y_test, y_pred))"
      ],
      "metadata": {
        "colab": {
          "base_uri": "https://localhost:8080/"
        },
        "id": "P7T3y4iEHTwf",
        "outputId": "fbfb4e34-7a5f-4359-bf88-8bc144f53bf6"
      },
      "execution_count": 45,
      "outputs": [
        {
          "output_type": "stream",
          "name": "stdout",
          "text": [
            "precision: 0.6071428571428571\n",
            "recall: 0.8292682926829268\n",
            "specificity: 0.6857142857142857\n"
          ]
        }
      ]
    }
  ]
}