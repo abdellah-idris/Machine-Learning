{
 "nbformat": 4,
 "nbformat_minor": 0,
 "metadata": {
  "colab": {
   "name": "Random Forest Model.ipynb",
   "provenance": []
  },
  "kernelspec": {
   "name": "python3",
   "display_name": "Python 3"
  },
  "language_info": {
   "name": "python"
  }
 },
 "cells": [
  {
   "cell_type": "markdown",
   "source": [
    "**Random forest**:  model built with multiple trees\n",
    "\n",
    "A random forest is an example of an ensemble because it uses multiple machine learning models to create a single model. "
   ],
   "metadata": {
    "id": "WjCWc-FRZQgA"
   }
  },
  {
   "cell_type": "code",
   "execution_count": 1,
   "metadata": {
    "colab": {
     "base_uri": "https://localhost:8080/",
     "height": 54
    },
    "id": "fnLINl8gY4Aw",
    "outputId": "e9b78349-40d3-4313-fadb-ae0697cdbefc"
   },
   "outputs": [
    {
     "name": "stdout",
     "output_type": "stream",
     "text": [
      "random forest accuracy: 0.972027972027972\n"
     ]
    },
    {
     "data": {
      "text/plain": "'\\nParam:\\n  df = RandomForestClassifier(max_features=5)\\n  rf = RandomForestClassifier(n_estimators=15)\\n'"
     },
     "execution_count": 1,
     "metadata": {},
     "output_type": "execute_result"
    }
   ],
   "source": [
    "import pandas as pd\n",
    "from sklearn.datasets import load_breast_cancer\n",
    "from sklearn.ensemble import RandomForestClassifier\n",
    "from sklearn.model_selection import train_test_split, GridSearchCV\n",
    "import matplotlib.pyplot as plt\n",
    "\n",
    "cancer_data = load_breast_cancer()\n",
    "df = pd.DataFrame(cancer_data['data'], columns=cancer_data['feature_names'])\n",
    "df['target'] = cancer_data['target']\n",
    "\n",
    "X = df[cancer_data.feature_names].values\n",
    "y = df['target'].values\n",
    "\n",
    "X_train, X_test, y_train, y_test = train_test_split(X, y, random_state=101)\n",
    "\n",
    "rf = RandomForestClassifier(random_state=75)\n",
    "rf.fit(X_train, y_train)\n",
    "first_row = X_test[0]\n",
    "\n",
    "print(\"random forest accuracy:\", rf.score(X_test, y_test))\n",
    "\n",
    "\"\"\"\n",
    "Param:\n",
    "  df = RandomForestClassifier(max_features=5)\n",
    "  rf = RandomForestClassifier(n_estimators=15)\n",
    "\"\"\"\n"
   ]
  },
  {
   "cell_type": "markdown",
   "source": [
    " Grid Search class to help us find the optimal choice of parameters"
   ],
   "metadata": {
    "id": "g8psgIwCakiB"
   }
  },
  {
   "cell_type": "code",
   "source": [
    "param_grid = {\n",
    "    'n_estimators': [10, 25, 50, 75, 100],\n",
    "    'max_features':  [5, 10, 20,],\n",
    "}\n",
    "gs = GridSearchCV(rf, param_grid, scoring='f1', cv=5)\n",
    "gs.fit(X, y)\n",
    "print(\"best params:\", gs.best_params_)"
   ],
   "metadata": {
    "colab": {
     "base_uri": "https://localhost:8080/"
    },
    "id": "klYW9EWYZVe9",
    "outputId": "8317da2d-5f80-4e93-a848-62f8d3303c5a"
   },
   "execution_count": 2,
   "outputs": [
    {
     "name": "stdout",
     "output_type": "stream",
     "text": [
      "best params: {'max_features': 20, 'n_estimators': 75}\n"
     ]
    }
   ]
  },
  {
   "cell_type": "markdown",
   "source": [
    "**Elbow Graph:** is a model that optimizes performance without adding unnecessary complexity"
   ],
   "metadata": {
    "id": "USxZ8sKHdPnE"
   }
  },
  {
   "cell_type": "code",
   "source": [
    "n_estimators = list(range(1, 101))\n",
    "param_grid = {\n",
    "    'n_estimators': n_estimators,\n",
    "}\n",
    "rf = RandomForestClassifier()\n",
    "gs = GridSearchCV(rf, param_grid, cv=5)\n",
    "gs.fit(X, y)\n",
    "scores = gs.cv_results_['mean_test_score']\n",
    "plt.plot(n_estimators, scores)\n",
    "plt.xlabel(\"n_estimators\")\n",
    "plt.ylabel(\"accuracy\")\n",
    "plt.xlim(0, 100)\n",
    "plt.ylim(0.9, 1)\n",
    "plt.show()"
   ],
   "metadata": {
    "id": "jlBsuib7eRt9"
   },
   "execution_count": 3,
   "outputs": [
    {
     "data": {
      "text/plain": "<Figure size 432x288 with 1 Axes>",
      "image/png": "[encoded data removed]"
     },
     "metadata": {
      "needs_background": "light"
     },
     "output_type": "display_data"
    }
   ]
  }
 ]
}