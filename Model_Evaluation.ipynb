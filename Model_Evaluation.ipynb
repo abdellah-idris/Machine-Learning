{
  "nbformat": 4,
  "nbformat_minor": 0,
  "metadata": {
    "colab": {
      "name": "Model Evaluation.ipynb",
      "provenance": [],
      "collapsed_sections": []
    },
    "kernelspec": {
      "name": "python3",
      "display_name": "Python 3"
    },
    "language_info": {
      "name": "python"
    }
  },
  "cells": [
    {
      "cell_type": "markdown",
      "source": [
        "**Model Evaluation**"
      ],
      "metadata": {
        "id": "oLM7jGLDzF9Q"
      }
    },
    {
      "cell_type": "markdown",
      "source": [
        "Accuracy\n",
        "Precision : refers to the percentage of positive results which are relevant                   \n",
        "Recall : percentage of positive cases correctly classified\n",
        "F1 score is the harmonic mean of the precision and recall values.\n",
        "F1= 2*(precision*recall=/(precision+recall)"
      ],
      "metadata": {
        "id": "qepeQHudzKyo"
      }
    },
    {
      "cell_type": "markdown",
      "source": [
        "\n",
        "\n",
        "---\n",
        "\n",
        "\n",
        "Accuracy, Precision, Recall & F1 Score in Sklearn\n",
        "\n",
        "\n",
        "\n"
      ],
      "metadata": {
        "id": "tG9NsPmk128K"
      }
    },
    {
      "cell_type": "code",
      "source": [
        "import pandas as pd\n",
        "from sklearn.linear_model import LogisticRegression\n",
        "from sklearn.metrics import accuracy_score, precision_score, recall_score, f1_score,confusion_matrix\n",
        "\n",
        "df = pd.read_csv('/content/titanic.csv')\n",
        "df['male'] = df['Sex'] == 'male'\n",
        "X = df[['Pclass', 'male', 'Age', 'Siblings/Spouses', 'Parents/Children', 'Fare']].values\n",
        "y = df['Survived'].values\n",
        "model = LogisticRegression()\n",
        "model.fit(X, y)\n",
        "y_pred = model.predict(X)\n",
        "\n",
        "print(\"accuracy:\", accuracy_score(y, y_pred)*100)\n",
        "print(\"precision:\", precision_score(y, y_pred)*100)\n",
        "print(\"recall:\", recall_score(y, y_pred)*100)\n",
        "print(\"f1 score:\", f1_score(y, y_pred)*100)\n",
        "print(confusion_matrix(y, y_pred)) #Scikit-learn reverses the confusion matrix to show the negative counts first! "
      ],
      "metadata": {
        "colab": {
          "base_uri": "https://localhost:8080/"
        },
        "id": "tDJ7WIbGzK7C",
        "outputId": "fced6997-486d-4c16-bbeb-dd09989d9f1b"
      },
      "execution_count": 4,
      "outputs": [
        {
          "output_type": "stream",
          "name": "stdout",
          "text": [
            "accuracy: 80.49605411499437\n",
            "precision: 77.34627831715211\n",
            "recall: 69.88304093567251\n",
            "f1 score: 73.42549923195082\n",
            "[[475  70]\n",
            " [103 239]]\n"
          ]
        }
      ]
    },
    {
      "cell_type": "markdown",
      "source": [
        "\n",
        "\n",
        "---\n",
        "Training and Testing\n",
        "\n"
      ],
      "metadata": {
        "id": "o_VgxN0P9LGp"
      }
    },
    {
      "cell_type": "code",
      "source": [
        "from sklearn.model_selection import train_test_split\n",
        "X_train, X_test, y_train, y_test = train_test_split(X, y , train_size=0.8)# 80% train 20% test\n",
        "\n",
        "print(\"whole dataset:\", X.shape, y.shape)\n",
        "print(\"training set:\", X_train.shape, y_train.shape )\n",
        "print(\"test set:\", X_test.shape, y_test.shape)"
      ],
      "metadata": {
        "colab": {
          "base_uri": "https://localhost:8080/",
          "height": 413
        },
        "id": "1VKawPDT9T--",
        "outputId": "0442bc9f-e0d6-4b4b-af0a-15e81d6b747f"
      },
      "execution_count": 24,
      "outputs": [
        {
          "output_type": "error",
          "ename": "ImportError",
          "evalue": "ignored",
          "traceback": [
            "\u001b[0;31m---------------------------------------------------------------------------\u001b[0m",
            "\u001b[0;31mImportError\u001b[0m                               Traceback (most recent call last)",
            "\u001b[0;32m<ipython-input-24-5baad558e06a>\u001b[0m in \u001b[0;36m<module>\u001b[0;34m()\u001b[0m\n\u001b[0;32m----> 1\u001b[0;31m \u001b[0;32mfrom\u001b[0m \u001b[0msklearn\u001b[0m\u001b[0;34m.\u001b[0m\u001b[0mmodel_selection\u001b[0m \u001b[0;32mimport\u001b[0m \u001b[0mtrain_test_split\u001b[0m\u001b[0;34m,\u001b[0m  \u001b[0mprecision_recall_fscore_support\u001b[0m\u001b[0;34m\u001b[0m\u001b[0;34m\u001b[0m\u001b[0m\n\u001b[0m\u001b[1;32m      2\u001b[0m \u001b[0mX_train\u001b[0m\u001b[0;34m,\u001b[0m \u001b[0mX_test\u001b[0m\u001b[0;34m,\u001b[0m \u001b[0my_train\u001b[0m\u001b[0;34m,\u001b[0m \u001b[0my_test\u001b[0m \u001b[0;34m=\u001b[0m \u001b[0mtrain_test_split\u001b[0m\u001b[0;34m(\u001b[0m\u001b[0mX\u001b[0m\u001b[0;34m,\u001b[0m \u001b[0my\u001b[0m \u001b[0;34m,\u001b[0m \u001b[0mtrain_size\u001b[0m\u001b[0;34m=\u001b[0m\u001b[0;36m0.8\u001b[0m\u001b[0;34m)\u001b[0m\u001b[0;31m# 80% train 20% test\u001b[0m\u001b[0;34m\u001b[0m\u001b[0;34m\u001b[0m\u001b[0m\n\u001b[1;32m      3\u001b[0m \u001b[0;34m\u001b[0m\u001b[0m\n\u001b[1;32m      4\u001b[0m \u001b[0mprint\u001b[0m\u001b[0;34m(\u001b[0m\u001b[0;34m\"whole dataset:\"\u001b[0m\u001b[0;34m,\u001b[0m \u001b[0mX\u001b[0m\u001b[0;34m.\u001b[0m\u001b[0mshape\u001b[0m\u001b[0;34m,\u001b[0m \u001b[0my\u001b[0m\u001b[0;34m.\u001b[0m\u001b[0mshape\u001b[0m\u001b[0;34m)\u001b[0m\u001b[0;34m\u001b[0m\u001b[0;34m\u001b[0m\u001b[0m\n\u001b[1;32m      5\u001b[0m \u001b[0mprint\u001b[0m\u001b[0;34m(\u001b[0m\u001b[0;34m\"training set:\"\u001b[0m\u001b[0;34m,\u001b[0m \u001b[0mX_train\u001b[0m\u001b[0;34m.\u001b[0m\u001b[0mshape\u001b[0m\u001b[0;34m,\u001b[0m \u001b[0my_train\u001b[0m\u001b[0;34m.\u001b[0m\u001b[0mshape\u001b[0m \u001b[0;34m)\u001b[0m\u001b[0;34m\u001b[0m\u001b[0;34m\u001b[0m\u001b[0m\n",
            "\u001b[0;31mImportError\u001b[0m: cannot import name 'precision_recall_fscore_support' from 'sklearn.model_selection' (/usr/local/lib/python3.7/dist-packages/sklearn/model_selection/__init__.py)",
            "",
            "\u001b[0;31m---------------------------------------------------------------------------\u001b[0;32m\nNOTE: If your import is failing due to a missing package, you can\nmanually install dependencies using either !pip or !apt.\n\nTo view examples of installing some common dependencies, click the\n\"Open Examples\" button below.\n\u001b[0;31m---------------------------------------------------------------------------\u001b[0m\n"
          ],
          "errorDetails": {
            "actions": [
              {
                "action": "open_url",
                "actionText": "Open Examples",
                "url": "/notebooks/snippets/importing_libraries.ipynb"
              }
            ]
          }
        }
      ]
    },
    {
      "cell_type": "code",
      "source": [
        "X_train, X_test, y_train, y_test = train_test_split(X, y)\n",
        "model.fit(X_train, y_train)\n",
        "# evaluating the model\n",
        "y_pred = model.predict(X_test)\n",
        "print(\"accuracy:\", accuracy_score(y_test, y_pred)*100)\n",
        "print(\"precision:\", precision_score(y_test, y_pred)*100)\n",
        "print(\"recall:\", recall_score(y_test, y_pred)*100)\n",
        "print(\"f1 score:\", f1_score(y_test, y_pred)*100)"
      ],
      "metadata": {
        "colab": {
          "base_uri": "https://localhost:8080/"
        },
        "id": "vB5MUjeN-PPX",
        "outputId": "a23ce5a5-ebc2-46ac-ae9d-f61abd9f5e7a"
      },
      "execution_count": 27,
      "outputs": [
        {
          "output_type": "stream",
          "name": "stdout",
          "text": [
            "accuracy: 77.92792792792793\n",
            "precision: 71.60493827160494\n",
            "recall: 69.04761904761905\n",
            "f1 score: 70.3030303030303\n"
          ]
        }
      ]
    },
    {
      "cell_type": "markdown",
      "source": [
        "\n",
        "\n",
        "---\n",
        "\n",
        "\n",
        "Sensitivity & Specificity"
      ],
      "metadata": {
        "id": "CP9qZu7xD1FF"
      }
    },
    {
      "cell_type": "code",
      "source": [
        "from sklearn.metrics import recall_score, precision_recall_fscore_support\n",
        "sensitivity_score = recall_score\n",
        "def specificity_score(y_true, y_pred):\n",
        "    p, r, f, s = precision_recall_fscore_support(y_true, y_pred)\n",
        "    return r[0]\n",
        "print(\"sensitivity:\", sensitivity_score(y_test, y_pred)) #recall\n",
        "print(\"specificity:\", specificity_score(y_test, y_pred))"
      ],
      "metadata": {
        "colab": {
          "base_uri": "https://localhost:8080/"
        },
        "id": "ZVzp0oT5D4CP",
        "outputId": "fc42a365-1f07-47dc-bb6e-bbc2b5cd296d"
      },
      "execution_count": 28,
      "outputs": [
        {
          "output_type": "stream",
          "name": "stdout",
          "text": [
            "sensitivity: 0.6904761904761905\n",
            "specificity: 0.8333333333333334\n"
          ]
        }
      ]
    },
    {
      "cell_type": "code",
      "source": [
        "X_train, X_test, y_train, y_test = train_test_split(X, y, random_state=5) #always get the same\n",
        "model = LogisticRegression()\n",
        "model.fit(X_train, y_train)\n",
        "y_pred = model.predict_proba(X_test)[:, 1] > 0.25 #adjust the   Threshold\n",
        "\n",
        "print(\"precision:\", precision_score(y_test, y_pred))\n",
        "print(\"recall:\", recall_score(y_test, y_pred))\n",
        "print(\"specificity:\", specificity_score(y_test, y_pred))"
      ],
      "metadata": {
        "colab": {
          "base_uri": "https://localhost:8080/"
        },
        "id": "P7T3y4iEHTwf",
        "outputId": "aae893fc-5f12-4c5f-d67f-c6dc0e8cfafe"
      },
      "execution_count": 35,
      "outputs": [
        {
          "output_type": "stream",
          "name": "stdout",
          "text": [
            "precision: 0.6071428571428571\n",
            "recall: 0.8292682926829268\n",
            "specificity: 0.6857142857142857\n"
          ]
        }
      ]
    }
  ]
}