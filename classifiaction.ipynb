{
  "nbformat": 4,
  "nbformat_minor": 0,
  "metadata": {
    "colab": {
      "name": "classifiaction.ipynb",
      "provenance": []
    },
    "kernelspec": {
      "name": "python3",
      "display_name": "Python 3"
    },
    "language_info": {
      "name": "python"
    }
  },
  "cells": [
    {
      "cell_type": "markdown",
      "source": [
        "**Supervised**\n"
      ],
      "metadata": {
        "id": "fixuQYNHA8oB"
      }
    },
    {
      "cell_type": "markdown",
      "source": [
        "Supervised Learning means that we will have labeled historical data that we will use to inform our model.\n",
        "Within supervised learning, there is Classification and Regression. Classification problems are where the target is a categorical value (often True or False, but can be multiple categories). Regression problems are where the target is a numerical value. \n",
        "Logistic Regression, while it has regression in its name is an algorithm for solving classification problems, not regression problems."
      ],
      "metadata": {
        "id": "JZbgi7fACxRB"
      }
    },
    {
      "cell_type": "markdown",
      "source": [
        "Logistic Regression is a way of mathematically finding the best line.\n",
        "Logistic Regression gives not just a prediction (survived or not), but a probability (80% chance this person survived)."
      ],
      "metadata": {
        "id": "4JAnPDd8EOGD"
      }
    },
    {
      "cell_type": "markdown",
      "source": [
        "we use sigmoide function https://fr.wikipedia.org/wiki/Sigmo%C3%AFde_(math%C3%A9matiques)"
      ],
      "metadata": {
        "id": "awa-AhAeFeUa"
      }
    },
    {
      "cell_type": "markdown",
      "source": [
        "**scikit-learn**"
      ],
      "metadata": {
        "id": "pil22-d9H2Id"
      }
    },
    {
      "cell_type": "markdown",
      "source": [
        "All of the basic machine learning algorithms are implemented in sklearn.\n"
      ],
      "metadata": {
        "id": "dXnur5HxH6gO"
      }
    },
    {
      "cell_type": "code",
      "source": [
        "import pandas as pd\n",
        "import numpy\n",
        "df = pd.read_csv('/titanic.csv')\n",
        "df['male'] = df['Sex'] == 'male'\n",
        "X = df[['Pclass', 'male', 'Age', 'Siblings/Spouses', 'Parents/Children', 'Fare']].values\n",
        "y = df['Survived'].values\n",
        "unique, counts = numpy.unique(y, return_counts=True)\n",
        "print(df.info())\n",
        "print(X)\n",
        "print(dict(zip(unique, counts)))"
      ],
      "metadata": {
        "colab": {
          "base_uri": "https://localhost:8080/"
        },
        "id": "xqMVwRCDKZ5A",
        "outputId": "41bdd576-2003-441a-8921-41b18245d165"
      },
      "execution_count": 4,
      "outputs": [
        {
          "output_type": "stream",
          "name": "stdout",
          "text": [
            "<class 'pandas.core.frame.DataFrame'>\n",
            "RangeIndex: 887 entries, 0 to 886\n",
            "Data columns (total 8 columns):\n",
            " #   Column            Non-Null Count  Dtype  \n",
            "---  ------            --------------  -----  \n",
            " 0   Survived          887 non-null    int64  \n",
            " 1   Pclass            887 non-null    int64  \n",
            " 2   Sex               887 non-null    object \n",
            " 3   Age               887 non-null    float64\n",
            " 4   Siblings/Spouses  887 non-null    int64  \n",
            " 5   Parents/Children  887 non-null    int64  \n",
            " 6   Fare              887 non-null    float64\n",
            " 7   male              887 non-null    bool   \n",
            "dtypes: bool(1), float64(2), int64(4), object(1)\n",
            "memory usage: 49.5+ KB\n",
            "None\n",
            "[[3 True 22.0 1 0 7.25]\n",
            " [1 False 38.0 1 0 71.2833]\n",
            " [3 False 26.0 0 0 7.925]\n",
            " ...\n",
            " [3 False 7.0 1 2 23.45]\n",
            " [1 True 26.0 0 0 30.0]\n",
            " [3 True 32.0 0 0 7.75]]\n",
            "{0: 545, 1: 342}\n"
          ]
        }
      ]
    },
    {
      "cell_type": "markdown",
      "source": [
        "Logistic regression"
      ],
      "metadata": {
        "id": "NU3D-09LLRaC"
      }
    },
    {
      "cell_type": "code",
      "source": [
        "from sklearn.linear_model import LogisticRegression\n",
        "#All sklearn models are built as Python classes. \n",
        "#We first instantiate the class.\n",
        "model = LogisticRegression() # solver='liblinear' param for algorithm that find the coef of eqaution\n",
        "A = df[['Age', 'Fare']].values\n",
        "model.fit(A, y) #fit method is used for building the model\n",
        "print(model.coef_, model.intercept_) # 0 = 0.0161594x + -0.01549065y + -0.51037152"
      ],
      "metadata": {
        "colab": {
          "base_uri": "https://localhost:8080/"
        },
        "id": "32dFka0dLUZx",
        "outputId": "a9b72c5a-f37c-41bb-b7a4-8bbd8089fab7"
      },
      "execution_count": 5,
      "outputs": [
        {
          "output_type": "stream",
          "name": "stdout",
          "text": [
            "[[-0.01549065  0.01615949]] [-0.51037152]\n"
          ]
        }
      ]
    },
    {
      "cell_type": "code",
      "source": [
        "#@title\n",
        "import matplotlib.pyplot as plt\n",
        "plt.scatter(df['Age'], df['Fare'],c=df['Survived'])\n",
        "plt.plot([0, 80], [85, 5])"
      ],
      "metadata": {
        "colab": {
          "base_uri": "https://localhost:8080/",
          "height": 283
        },
        "id": "58JGa7tWMl9l",
        "outputId": "89073f69-9ede-492a-8098-eea4d34861d2"
      },
      "execution_count": 6,
      "outputs": [
        {
          "output_type": "execute_result",
          "data": {
            "text/plain": [
              "[<matplotlib.lines.Line2D at 0x7f663201e950>]"
            ]
          },
          "metadata": {},
          "execution_count": 6
        },
        {
          "output_type": "display_data",
          "data": {
            "image/png": "[encoded data removed]",
            "text/plain": [
              "<Figure size 432x288 with 1 Axes>"
            ]
          },
          "metadata": {
            "needs_background": "light"
          }
        }
      ]
    },
    {
      "cell_type": "code",
      "source": [
        "print(\"did not survive  \" + str(A[0]))\n",
        "print(\"survived \"+ str(A[1]))\n",
        "model.predict(A) #Now we can use the predict method to make predictions. \n",
        "print(model.predict(A[:5])) "
      ],
      "metadata": {
        "colab": {
          "base_uri": "https://localhost:8080/"
        },
        "id": "cLjzO4G7QVNn",
        "outputId": "567bd4bc-7308-465d-db9b-0965b63eb28e"
      },
      "execution_count": 8,
      "outputs": [
        {
          "output_type": "stream",
          "name": "stdout",
          "text": [
            "did not survive  [22.    7.25]\n",
            "survived [38.     71.2833]\n",
            "[0 1 0 0 0]\n"
          ]
        }
      ]
    },
    {
      "cell_type": "markdown",
      "source": [
        "Score the Model"
      ],
      "metadata": {
        "id": "GDUQfQP9T8gs"
      }
    },
    {
      "cell_type": "code",
      "source": [
        "y_pred = model.predict(A) # array of prediction\n",
        "y == y_pred # array of boolean whether the prediction is correct or not\n",
        "print((y == y_pred).sum()) #887 datapoints in the model 580 predicted correctly\n",
        "print(model.score(A, y)) #print((y == y_pred).sum() / y.shape[0])"
      ],
      "metadata": {
        "colab": {
          "base_uri": "https://localhost:8080/"
        },
        "id": "eoa_wUF-T7WT",
        "outputId": "37d94cd9-bb62-4b44-d754-54d72e0b601f"
      },
      "execution_count": 9,
      "outputs": [
        {
          "output_type": "stream",
          "name": "stdout",
          "text": [
            "580\n",
            "0.6538895152198422\n"
          ]
        }
      ]
    },
    {
      "cell_type": "markdown",
      "source": [
        ""
      ],
      "metadata": {
        "id": "eUWfuDfpMbDm"
      }
    }
  ]
}